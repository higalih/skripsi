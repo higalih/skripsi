{
  "cells": [
    {
      "cell_type": "markdown",
      "metadata": {
        "id": "lBqQs5XIxty3"
      },
      "source": [
        "# Recommendation"
      ]
    },
    {
      "cell_type": "markdown",
      "metadata": {
        "id": "mHd7CxujxtzB"
      },
      "source": [
        "# Step 1: Load the Dataset\n"
      ]
    },
    {
      "cell_type": "code",
      "execution_count": 1,
      "metadata": {
        "colab": {
          "base_uri": "https://localhost:8080/",
          "height": 414
        },
        "execution": {
          "iopub.execute_input": "2024-07-21T00:21:21.899996Z",
          "iopub.status.busy": "2024-07-21T00:21:21.899075Z",
          "iopub.status.idle": "2024-07-21T00:21:22.277922Z",
          "shell.execute_reply": "2024-07-21T00:21:22.276676Z",
          "shell.execute_reply.started": "2024-07-21T00:21:21.899956Z"
        },
        "id": "TP94MPXxxtzC",
        "outputId": "e4ac2e99-d43d-4109-d938-fb3ba2897b88"
      },
      "outputs": [
        {
          "data": {
            "text/html": [
              "<div>\n",
              "<style scoped>\n",
              "    .dataframe tbody tr th:only-of-type {\n",
              "        vertical-align: middle;\n",
              "    }\n",
              "\n",
              "    .dataframe tbody tr th {\n",
              "        vertical-align: top;\n",
              "    }\n",
              "\n",
              "    .dataframe thead th {\n",
              "        text-align: right;\n",
              "    }\n",
              "</style>\n",
              "<table border=\"1\" class=\"dataframe\">\n",
              "  <thead>\n",
              "    <tr style=\"text-align: right;\">\n",
              "      <th></th>\n",
              "      <th>Unnamed: 0</th>\n",
              "      <th>recipe_id</th>\n",
              "      <th>recipe_name</th>\n",
              "      <th>aver_rate</th>\n",
              "      <th>image_url</th>\n",
              "      <th>review_nums</th>\n",
              "      <th>calories</th>\n",
              "      <th>fat</th>\n",
              "      <th>carbohydrates</th>\n",
              "      <th>protein</th>\n",
              "      <th>cholesterol</th>\n",
              "      <th>sodium</th>\n",
              "      <th>fiber</th>\n",
              "      <th>ingredients_list</th>\n",
              "    </tr>\n",
              "  </thead>\n",
              "  <tbody>\n",
              "    <tr>\n",
              "      <th>0</th>\n",
              "      <td>0</td>\n",
              "      <td>222388</td>\n",
              "      <td>Homemade Bacon</td>\n",
              "      <td>5.00</td>\n",
              "      <td>https://images.media-allrecipes.com/userphotos...</td>\n",
              "      <td>3</td>\n",
              "      <td>15</td>\n",
              "      <td>36</td>\n",
              "      <td>1</td>\n",
              "      <td>42</td>\n",
              "      <td>21</td>\n",
              "      <td>81</td>\n",
              "      <td>2</td>\n",
              "      <td>['pork belly', 'smoked paprika', 'kosher salt'...</td>\n",
              "    </tr>\n",
              "    <tr>\n",
              "      <th>1</th>\n",
              "      <td>1</td>\n",
              "      <td>240488</td>\n",
              "      <td>Pork Loin, Apples, and Sauerkraut</td>\n",
              "      <td>4.76</td>\n",
              "      <td>https://images.media-allrecipes.com/userphotos...</td>\n",
              "      <td>29</td>\n",
              "      <td>19</td>\n",
              "      <td>18</td>\n",
              "      <td>10</td>\n",
              "      <td>73</td>\n",
              "      <td>33</td>\n",
              "      <td>104</td>\n",
              "      <td>41</td>\n",
              "      <td>['sauerkraut drained', 'Granny Smith apples sl...</td>\n",
              "    </tr>\n",
              "    <tr>\n",
              "      <th>2</th>\n",
              "      <td>2</td>\n",
              "      <td>218939</td>\n",
              "      <td>Foolproof Rosemary Chicken Wings</td>\n",
              "      <td>4.57</td>\n",
              "      <td>https://images.media-allrecipes.com/userphotos...</td>\n",
              "      <td>12</td>\n",
              "      <td>17</td>\n",
              "      <td>36</td>\n",
              "      <td>2</td>\n",
              "      <td>48</td>\n",
              "      <td>24</td>\n",
              "      <td>31</td>\n",
              "      <td>4</td>\n",
              "      <td>['chicken wings', 'sprigs rosemary', 'head gar...</td>\n",
              "    </tr>\n",
              "    <tr>\n",
              "      <th>3</th>\n",
              "      <td>3</td>\n",
              "      <td>87211</td>\n",
              "      <td>Chicken Pesto Paninis</td>\n",
              "      <td>4.62</td>\n",
              "      <td>https://images.media-allrecipes.com/userphotos...</td>\n",
              "      <td>163</td>\n",
              "      <td>32</td>\n",
              "      <td>45</td>\n",
              "      <td>20</td>\n",
              "      <td>65</td>\n",
              "      <td>20</td>\n",
              "      <td>43</td>\n",
              "      <td>18</td>\n",
              "      <td>['focaccia bread quartered', 'prepared basil p...</td>\n",
              "    </tr>\n",
              "    <tr>\n",
              "      <th>4</th>\n",
              "      <td>4</td>\n",
              "      <td>245714</td>\n",
              "      <td>Potato Bacon Pizza</td>\n",
              "      <td>4.50</td>\n",
              "      <td>https://images.media-allrecipes.com/userphotos...</td>\n",
              "      <td>2</td>\n",
              "      <td>8</td>\n",
              "      <td>12</td>\n",
              "      <td>5</td>\n",
              "      <td>14</td>\n",
              "      <td>7</td>\n",
              "      <td>8</td>\n",
              "      <td>3</td>\n",
              "      <td>['red potatoes', 'strips bacon', 'Sauce:', 'he...</td>\n",
              "    </tr>\n",
              "  </tbody>\n",
              "</table>\n",
              "</div>"
            ],
            "text/plain": [
              "   Unnamed: 0  recipe_id                        recipe_name  aver_rate  \\\n",
              "0           0     222388                     Homemade Bacon       5.00   \n",
              "1           1     240488  Pork Loin, Apples, and Sauerkraut       4.76   \n",
              "2           2     218939   Foolproof Rosemary Chicken Wings       4.57   \n",
              "3           3      87211              Chicken Pesto Paninis       4.62   \n",
              "4           4     245714                 Potato Bacon Pizza       4.50   \n",
              "\n",
              "                                           image_url  review_nums  calories  \\\n",
              "0  https://images.media-allrecipes.com/userphotos...            3        15   \n",
              "1  https://images.media-allrecipes.com/userphotos...           29        19   \n",
              "2  https://images.media-allrecipes.com/userphotos...           12        17   \n",
              "3  https://images.media-allrecipes.com/userphotos...          163        32   \n",
              "4  https://images.media-allrecipes.com/userphotos...            2         8   \n",
              "\n",
              "   fat  carbohydrates  protein  cholesterol  sodium  fiber  \\\n",
              "0   36              1       42           21      81      2   \n",
              "1   18             10       73           33     104     41   \n",
              "2   36              2       48           24      31      4   \n",
              "3   45             20       65           20      43     18   \n",
              "4   12              5       14            7       8      3   \n",
              "\n",
              "                                    ingredients_list  \n",
              "0  ['pork belly', 'smoked paprika', 'kosher salt'...  \n",
              "1  ['sauerkraut drained', 'Granny Smith apples sl...  \n",
              "2  ['chicken wings', 'sprigs rosemary', 'head gar...  \n",
              "3  ['focaccia bread quartered', 'prepared basil p...  \n",
              "4  ['red potatoes', 'strips bacon', 'Sauce:', 'he...  "
            ]
          },
          "execution_count": 1,
          "metadata": {},
          "output_type": "execute_result"
        }
      ],
      "source": [
        "import pandas as pd\n",
        "\n",
        "# Load the dataset\n",
        "file_path = \"recipe_final (1).csv\"\n",
        "recipe_df = pd.read_csv(file_path)\n",
        "\n",
        "recipe_df.head()"
      ]
    },
    {
      "cell_type": "code",
      "execution_count": 2,
      "metadata": {
        "id": "aT2wejLVzsyl"
      },
      "outputs": [],
      "source": [
        "import numpy as np\n",
        "import pandas as pd\n",
        "from sklearn.neighbors import NearestNeighbors\n",
        "from sklearn.preprocessing import StandardScaler\n",
        "from sklearn.feature_extraction.text import TfidfVectorizer\n",
        "from sklearn.pipeline import Pipeline"
      ]
    },
    {
      "cell_type": "code",
      "execution_count": 8,
      "metadata": {},
      "outputs": [
        {
          "data": {
            "text/plain": [
              "0    ['pork belly', 'smoked paprika', 'kosher salt'...\n",
              "1    ['sauerkraut drained', 'Granny Smith apples sl...\n",
              "2    ['chicken wings', 'sprigs rosemary', 'head gar...\n",
              "3    ['focaccia bread quartered', 'prepared basil p...\n",
              "4    ['red potatoes', 'strips bacon', 'Sauce:', 'he...\n",
              "Name: ingredients_list, dtype: object"
            ]
          },
          "execution_count": 8,
          "metadata": {},
          "output_type": "execute_result"
        }
      ],
      "source": [
        "recipe_df[\"ingredients_list\"].head()"
      ]
    },
    {
      "cell_type": "code",
      "execution_count": 3,
      "metadata": {
        "id": "fc5Fwp4izs1s"
      },
      "outputs": [],
      "source": [
        "# Preprocess Ingredients\n",
        "vectorizer = TfidfVectorizer()\n",
        "X_ingredients = vectorizer.fit_transform(recipe_df[\"ingredients_list\"])"
      ]
    },
    {
      "cell_type": "code",
      "execution_count": 4,
      "metadata": {
        "id": "GVPUlxtjzs4t"
      },
      "outputs": [],
      "source": [
        "# Normalize Numerical Features\n",
        "scaler = StandardScaler()\n",
        "X_numerical = scaler.fit_transform(\n",
        "    recipe_df[\n",
        "        [\n",
        "            \"calories\",\n",
        "            \"fat\",\n",
        "            \"carbohydrates\",\n",
        "            \"protein\",\n",
        "            \"cholesterol\",\n",
        "            \"sodium\",\n",
        "            \"fiber\",\n",
        "        ]\n",
        "    ]\n",
        ")"
      ]
    },
    {
      "cell_type": "code",
      "execution_count": 5,
      "metadata": {
        "colab": {
          "base_uri": "https://localhost:8080/",
          "height": 74
        },
        "id": "pGYVserlz3uN",
        "outputId": "a507c3d0-97a7-4979-80fb-287e21f95d3e"
      },
      "outputs": [
        {
          "data": {
            "text/html": [
              "<style>#sk-container-id-1 {color: black;}#sk-container-id-1 pre{padding: 0;}#sk-container-id-1 div.sk-toggleable {background-color: white;}#sk-container-id-1 label.sk-toggleable__label {cursor: pointer;display: block;width: 100%;margin-bottom: 0;padding: 0.3em;box-sizing: border-box;text-align: center;}#sk-container-id-1 label.sk-toggleable__label-arrow:before {content: \"▸\";float: left;margin-right: 0.25em;color: #696969;}#sk-container-id-1 label.sk-toggleable__label-arrow:hover:before {color: black;}#sk-container-id-1 div.sk-estimator:hover label.sk-toggleable__label-arrow:before {color: black;}#sk-container-id-1 div.sk-toggleable__content {max-height: 0;max-width: 0;overflow: hidden;text-align: left;background-color: #f0f8ff;}#sk-container-id-1 div.sk-toggleable__content pre {margin: 0.2em;color: black;border-radius: 0.25em;background-color: #f0f8ff;}#sk-container-id-1 input.sk-toggleable__control:checked~div.sk-toggleable__content {max-height: 200px;max-width: 100%;overflow: auto;}#sk-container-id-1 input.sk-toggleable__control:checked~label.sk-toggleable__label-arrow:before {content: \"▾\";}#sk-container-id-1 div.sk-estimator input.sk-toggleable__control:checked~label.sk-toggleable__label {background-color: #d4ebff;}#sk-container-id-1 div.sk-label input.sk-toggleable__control:checked~label.sk-toggleable__label {background-color: #d4ebff;}#sk-container-id-1 input.sk-hidden--visually {border: 0;clip: rect(1px 1px 1px 1px);clip: rect(1px, 1px, 1px, 1px);height: 1px;margin: -1px;overflow: hidden;padding: 0;position: absolute;width: 1px;}#sk-container-id-1 div.sk-estimator {font-family: monospace;background-color: #f0f8ff;border: 1px dotted black;border-radius: 0.25em;box-sizing: border-box;margin-bottom: 0.5em;}#sk-container-id-1 div.sk-estimator:hover {background-color: #d4ebff;}#sk-container-id-1 div.sk-parallel-item::after {content: \"\";width: 100%;border-bottom: 1px solid gray;flex-grow: 1;}#sk-container-id-1 div.sk-label:hover label.sk-toggleable__label {background-color: #d4ebff;}#sk-container-id-1 div.sk-serial::before {content: \"\";position: absolute;border-left: 1px solid gray;box-sizing: border-box;top: 0;bottom: 0;left: 50%;z-index: 0;}#sk-container-id-1 div.sk-serial {display: flex;flex-direction: column;align-items: center;background-color: white;padding-right: 0.2em;padding-left: 0.2em;position: relative;}#sk-container-id-1 div.sk-item {position: relative;z-index: 1;}#sk-container-id-1 div.sk-parallel {display: flex;align-items: stretch;justify-content: center;background-color: white;position: relative;}#sk-container-id-1 div.sk-item::before, #sk-container-id-1 div.sk-parallel-item::before {content: \"\";position: absolute;border-left: 1px solid gray;box-sizing: border-box;top: 0;bottom: 0;left: 50%;z-index: -1;}#sk-container-id-1 div.sk-parallel-item {display: flex;flex-direction: column;z-index: 1;position: relative;background-color: white;}#sk-container-id-1 div.sk-parallel-item:first-child::after {align-self: flex-end;width: 50%;}#sk-container-id-1 div.sk-parallel-item:last-child::after {align-self: flex-start;width: 50%;}#sk-container-id-1 div.sk-parallel-item:only-child::after {width: 0;}#sk-container-id-1 div.sk-dashed-wrapped {border: 1px dashed gray;margin: 0 0.4em 0.5em 0.4em;box-sizing: border-box;padding-bottom: 0.4em;background-color: white;}#sk-container-id-1 div.sk-label label {font-family: monospace;font-weight: bold;display: inline-block;line-height: 1.2em;}#sk-container-id-1 div.sk-label-container {text-align: center;}#sk-container-id-1 div.sk-container {/* jupyter's `normalize.less` sets `[hidden] { display: none; }` but bootstrap.min.css set `[hidden] { display: none !important; }` so we also need the `!important` here to be able to override the default hidden behavior on the sphinx rendered scikit-learn.org. See: https://github.com/scikit-learn/scikit-learn/issues/21755 */display: inline-block !important;position: relative;}#sk-container-id-1 div.sk-text-repr-fallback {display: none;}</style><div id=\"sk-container-id-1\" class=\"sk-top-container\"><div class=\"sk-text-repr-fallback\"><pre>NearestNeighbors(metric=&#x27;euclidean&#x27;, n_neighbors=3)</pre><b>In a Jupyter environment, please rerun this cell to show the HTML representation or trust the notebook. <br />On GitHub, the HTML representation is unable to render, please try loading this page with nbviewer.org.</b></div><div class=\"sk-container\" hidden><div class=\"sk-item\"><div class=\"sk-estimator sk-toggleable\"><input class=\"sk-toggleable__control sk-hidden--visually\" id=\"sk-estimator-id-1\" type=\"checkbox\" checked><label for=\"sk-estimator-id-1\" class=\"sk-toggleable__label sk-toggleable__label-arrow\">NearestNeighbors</label><div class=\"sk-toggleable__content\"><pre>NearestNeighbors(metric=&#x27;euclidean&#x27;, n_neighbors=3)</pre></div></div></div></div></div>"
            ],
            "text/plain": [
              "NearestNeighbors(metric='euclidean', n_neighbors=3)"
            ]
          },
          "execution_count": 5,
          "metadata": {},
          "output_type": "execute_result"
        }
      ],
      "source": [
        "# Combine Features\n",
        "X_combined = np.hstack([X_numerical, X_ingredients.toarray()])\n",
        "\n",
        "# Train KNN Model\n",
        "knn = NearestNeighbors(n_neighbors=3, metric=\"euclidean\")\n",
        "knn.fit(X_combined)"
      ]
    },
    {
      "cell_type": "code",
      "execution_count": 6,
      "metadata": {
        "colab": {
          "base_uri": "https://localhost:8080/",
          "height": 178
        },
        "id": "i0LQM8wTzs7w",
        "outputId": "127ea46c-a8fc-489d-a39a-6d510ded83ad"
      },
      "outputs": [
        {
          "name": "stderr",
          "output_type": "stream",
          "text": [
            "/home/galih/.local/lib/python3.10/site-packages/sklearn/base.py:465: UserWarning: X does not have valid feature names, but StandardScaler was fitted with feature names\n",
            "  warnings.warn(\n"
          ]
        },
        {
          "data": {
            "text/html": [
              "<div>\n",
              "<style scoped>\n",
              "    .dataframe tbody tr th:only-of-type {\n",
              "        vertical-align: middle;\n",
              "    }\n",
              "\n",
              "    .dataframe tbody tr th {\n",
              "        vertical-align: top;\n",
              "    }\n",
              "\n",
              "    .dataframe thead th {\n",
              "        text-align: right;\n",
              "    }\n",
              "</style>\n",
              "<table border=\"1\" class=\"dataframe\">\n",
              "  <thead>\n",
              "    <tr style=\"text-align: right;\">\n",
              "      <th></th>\n",
              "      <th>recipe_name</th>\n",
              "      <th>ingredients_list</th>\n",
              "      <th>image_url</th>\n",
              "    </tr>\n",
              "  </thead>\n",
              "  <tbody>\n",
              "    <tr>\n",
              "      <th>0</th>\n",
              "      <td>Homemade Bacon</td>\n",
              "      <td>['pork belly', 'smoked paprika', 'kosher salt'...</td>\n",
              "      <td>https://images.media-allrecipes.com/userphotos...</td>\n",
              "    </tr>\n",
              "    <tr>\n",
              "      <th>3507</th>\n",
              "      <td>Char Siu (Chinese Barbeque Pork)</td>\n",
              "      <td>['honey', 'Shaoxing cooking wine', 'hoisin sau...</td>\n",
              "      <td>https://images.media-allrecipes.com/userphotos...</td>\n",
              "    </tr>\n",
              "    <tr>\n",
              "      <th>1926</th>\n",
              "      <td>Adobo Twist</td>\n",
              "      <td>['vegetable oil', 'onion', 'head garlic', 'por...</td>\n",
              "      <td>https://images.media-allrecipes.com/userphotos...</td>\n",
              "    </tr>\n",
              "  </tbody>\n",
              "</table>\n",
              "</div>"
            ],
            "text/plain": [
              "                           recipe_name  \\\n",
              "0                       Homemade Bacon   \n",
              "3507  Char Siu (Chinese Barbeque Pork)   \n",
              "1926                       Adobo Twist   \n",
              "\n",
              "                                       ingredients_list  \\\n",
              "0     ['pork belly', 'smoked paprika', 'kosher salt'...   \n",
              "3507  ['honey', 'Shaoxing cooking wine', 'hoisin sau...   \n",
              "1926  ['vegetable oil', 'onion', 'head garlic', 'por...   \n",
              "\n",
              "                                              image_url  \n",
              "0     https://images.media-allrecipes.com/userphotos...  \n",
              "3507  https://images.media-allrecipes.com/userphotos...  \n",
              "1926  https://images.media-allrecipes.com/userphotos...  "
            ]
          },
          "execution_count": 6,
          "metadata": {},
          "output_type": "execute_result"
        }
      ],
      "source": [
        "# Function to Recommend Recipes\n",
        "def recommend_recipes(input_features):\n",
        "    input_features_scaled = scaler.transform([input_features[:7]])\n",
        "    input_ingredients_transformed = vectorizer.transform([input_features[7]])\n",
        "    input_combined = np.hstack(\n",
        "        [input_features_scaled, input_ingredients_transformed.toarray()]\n",
        "    )\n",
        "    distances, indices = knn.kneighbors(input_combined)\n",
        "    recommendations = recipe_df.iloc[indices[0]]\n",
        "    return recommendations[[\"recipe_name\", \"ingredients_list\", \"image_url\"]]\n",
        "\n",
        "\n",
        "# Example Input\n",
        "input_features = [15, 36, 1, 42, 21, 81, 2, \"pork belly, smoked paprika, kosher salt\"]\n",
        "recommendations = recommend_recipes(input_features)\n",
        "recommendations"
      ]
    },
    {
      "cell_type": "code",
      "execution_count": null,
      "metadata": {
        "id": "lvOIr_zVzs-x"
      },
      "outputs": [],
      "source": []
    },
    {
      "cell_type": "code",
      "execution_count": null,
      "metadata": {
        "id": "J3C3cYpXztB9"
      },
      "outputs": [],
      "source": []
    },
    {
      "cell_type": "code",
      "execution_count": null,
      "metadata": {
        "id": "-DGzi8mtztFf"
      },
      "outputs": [],
      "source": []
    },
    {
      "cell_type": "code",
      "execution_count": null,
      "metadata": {
        "id": "xqFk7MhmztI5"
      },
      "outputs": [],
      "source": []
    }
  ],
  "metadata": {
    "colab": {
      "provenance": []
    },
    "kaggle": {
      "accelerator": "none",
      "dataSources": [
        {
          "datasetId": 52840,
          "sourceId": 100248,
          "sourceType": "datasetVersion"
        }
      ],
      "dockerImageVersionId": 30746,
      "isGpuEnabled": false,
      "isInternetEnabled": true,
      "language": "python",
      "sourceType": "notebook"
    },
    "kernelspec": {
      "display_name": "Python 3",
      "language": "python",
      "name": "python3"
    },
    "language_info": {
      "codemirror_mode": {
        "name": "ipython",
        "version": 3
      },
      "file_extension": ".py",
      "mimetype": "text/x-python",
      "name": "python",
      "nbconvert_exporter": "python",
      "pygments_lexer": "ipython3",
      "version": "3.10.12"
    }
  },
  "nbformat": 4,
  "nbformat_minor": 0
}
